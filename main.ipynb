{
 "cells": [
  {
   "cell_type": "markdown",
   "metadata": {},
   "source": [
    "# Trabalho de Bioinformática\n",
    "- Ana Cristina Silva de Oliveira, 11965630\n",
    "- Fernando Henrique Paes Generich, 11795342\n",
    "- Vítor Amorim Fróis, 12543440"
   ]
  },
  {
   "cell_type": "code",
   "execution_count": 2,
   "metadata": {
    "colab": {
     "base_uri": "https://localhost:8080/"
    },
    "executionInfo": {
     "elapsed": 9821,
     "status": "ok",
     "timestamp": 1732148125524,
     "user": {
      "displayName": "Fernando .Random. Henrique Paes Generich",
      "userId": "13317897141628915437"
     },
     "user_tz": 180
    },
    "id": "qokabCeg_taP",
    "outputId": "d57ab6b0-4a06-4dfc-d5a7-f9a4186c39e7"
   },
   "outputs": [],
   "source": [
    "import pandas as pd\n",
    "import matplotlib.pyplot as plt\n",
    "from Bio import Entrez, SeqIO, Seq\n",
    "from tqdm import tqdm"
   ]
  },
  {
   "cell_type": "markdown",
   "metadata": {
    "id": "0zLxXGIQUuRt"
   },
   "source": [
    "## Leitura dos arquivos .gff3\n",
    "Vamos selecionar todas as linhas em que a Strand é positiva:"
   ]
  },
  {
   "cell_type": "code",
   "execution_count": null,
   "metadata": {
    "colab": {
     "base_uri": "https://localhost:8080/",
     "height": 424
    },
    "executionInfo": {
     "elapsed": 1760,
     "status": "ok",
     "timestamp": 1732152630979,
     "user": {
      "displayName": "Fernando .Random. Henrique Paes Generich",
      "userId": "13317897141628915437"
     },
     "user_tz": 180
    },
    "id": "Luw5GIDHO4YT",
    "outputId": "a0d388f1-89e8-4bf1-f072-3fbf4accee2d"
   },
   "outputs": [
    {
     "data": {
      "text/html": [
       "<div>\n",
       "<style scoped>\n",
       "    .dataframe tbody tr th:only-of-type {\n",
       "        vertical-align: middle;\n",
       "    }\n",
       "\n",
       "    .dataframe tbody tr th {\n",
       "        vertical-align: top;\n",
       "    }\n",
       "\n",
       "    .dataframe thead th {\n",
       "        text-align: right;\n",
       "    }\n",
       "</style>\n",
       "<table border=\"1\" class=\"dataframe\">\n",
       "  <thead>\n",
       "    <tr style=\"text-align: right;\">\n",
       "      <th></th>\n",
       "      <th>Chr</th>\n",
       "      <th>Class</th>\n",
       "      <th>Start</th>\n",
       "      <th>End</th>\n",
       "      <th>Strand</th>\n",
       "      <th>Class</th>\n",
       "    </tr>\n",
       "  </thead>\n",
       "  <tbody>\n",
       "    <tr>\n",
       "      <th>0</th>\n",
       "      <td>7</td>\n",
       "      <td>Class II subclass 2/Helitron/Helitron</td>\n",
       "      <td>82856122</td>\n",
       "      <td>82857584</td>\n",
       "      <td>+</td>\n",
       "      <td>Helitron</td>\n",
       "    </tr>\n",
       "    <tr>\n",
       "      <th>1</th>\n",
       "      <td>1</td>\n",
       "      <td>Class II subclass 2/Helitron/Helitron</td>\n",
       "      <td>239302471</td>\n",
       "      <td>239302834</td>\n",
       "      <td>+</td>\n",
       "      <td>Helitron</td>\n",
       "    </tr>\n",
       "    <tr>\n",
       "      <th>2</th>\n",
       "      <td>8</td>\n",
       "      <td>Class II subclass 2/Helitron/Helitron</td>\n",
       "      <td>2261318</td>\n",
       "      <td>2261604</td>\n",
       "      <td>+</td>\n",
       "      <td>Helitron</td>\n",
       "    </tr>\n",
       "    <tr>\n",
       "      <th>3</th>\n",
       "      <td>5</td>\n",
       "      <td>Class II subclass 2/Helitron/Helitron</td>\n",
       "      <td>124665404</td>\n",
       "      <td>124665608</td>\n",
       "      <td>+</td>\n",
       "      <td>Helitron</td>\n",
       "    </tr>\n",
       "    <tr>\n",
       "      <th>4</th>\n",
       "      <td>9</td>\n",
       "      <td>Class II subclass 2/Helitron/Helitron</td>\n",
       "      <td>77998293</td>\n",
       "      <td>78002783</td>\n",
       "      <td>+</td>\n",
       "      <td>Helitron</td>\n",
       "    </tr>\n",
       "  </tbody>\n",
       "</table>\n",
       "</div>"
      ],
      "text/plain": [
       "  Chr                                  Class      Start        End Strand  \\\n",
       "0   7  Class II subclass 2/Helitron/Helitron   82856122   82857584      +   \n",
       "1   1  Class II subclass 2/Helitron/Helitron  239302471  239302834      +   \n",
       "2   8  Class II subclass 2/Helitron/Helitron    2261318    2261604      +   \n",
       "3   5  Class II subclass 2/Helitron/Helitron  124665404  124665608      +   \n",
       "4   9  Class II subclass 2/Helitron/Helitron   77998293   78002783      +   \n",
       "\n",
       "      Class  \n",
       "0  Helitron  \n",
       "1  Helitron  \n",
       "2  Helitron  \n",
       "3  Helitron  \n",
       "4  Helitron  "
      ]
     },
     "execution_count": 365,
     "metadata": {},
     "output_type": "execute_result"
    }
   ],
   "source": [
    "classes = [\n",
    "  'Helitron',\n",
    "  'LINE',\n",
    "  'LTR',\n",
    "  'MITE',\n",
    "  'SINE',\n",
    "  'TIR'\n",
    "]\n",
    "\n",
    "def process_file(element_class: str) -> pd.DataFrame:\n",
    "  filename = f'gff3/TEAnnotationFinal_{element_class}.gff3'\n",
    "  df = pd.read_csv(f'data/{filename}', sep='\\t', header=None)\n",
    "  df.drop(df[ df[6] != '+' ].index , inplace = True)\n",
    "  df = df.drop( [1, 5, 7, 8], axis=1)\n",
    "  df['Class'] = element_class\n",
    "  return df\n",
    "\n",
    "te_df = pd.DataFrame()\n",
    "\n",
    "# Juntando os dados em um único DataFrame\n",
    "for element_class in classes:\n",
    "  te_df = pd.concat([te_df, process_file(element_class)], ignore_index=True)\n",
    "\n",
    "# Renomeando colunas\n",
    "te_df.rename(columns={0 : \"Chr\", 2: \"FullClass\", 3: \"Start\", 4: \"End\", 6: \"Strand\"}, inplace = True)\n",
    "\n",
    "# Seleciona Chr numérico apenas\n",
    "te_df = te_df[te_df['Chr'].astype(str).str.isdigit()]\n",
    "\n",
    "te_df.head()"
   ]
  },
  {
   "cell_type": "markdown",
   "metadata": {
    "id": "RI8k8EHMDiZk"
   },
   "source": [
    "## Obtendo as sequências de cromossomos do NCBI\n",
    "No total, são 10 cromossomos"
   ]
  },
  {
   "cell_type": "code",
   "execution_count": 366,
   "metadata": {
    "executionInfo": {
     "elapsed": 66570,
     "status": "ok",
     "timestamp": 1732148635715,
     "user": {
      "displayName": "Fernando .Random. Henrique Paes Generich",
      "userId": "13317897141628915437"
     },
     "user_tz": 180
    },
    "id": "2uPDguA7KV2L"
   },
   "outputs": [
    {
     "name": "stderr",
     "output_type": "stream",
     "text": [
      "100%|██████████| 10/10 [09:11<00:00, 55.14s/it]\n"
     ]
    }
   ],
   "source": [
    "Entrez.email = \"fernando_gene@usp.br\"\n",
    "\n",
    "ind = 618874\n",
    "\n",
    "allchromosomes = []\n",
    "\n",
    "for i in tqdm(range(10)):\n",
    "  gen_bank_term = \"LR\" + str(ind+i) + \".1\"\n",
    "\n",
    "  handle = Entrez.esearch(db=\"nucleotide\", term=gen_bank_term, retmax=\"10\")\n",
    "  rec_list = Entrez.read(handle)\n",
    "  handle.close()\n",
    "\n",
    "  id_list = rec_list['IdList']\n",
    "  handle = Entrez.efetch(db='nucleotide', id=id_list, rettype='fasta', retmode=\"text\")\n",
    "  recs = list(SeqIO.parse(handle, 'fasta'))\n",
    "  handle.close()\n",
    "\n",
    "  allchromosomes.append(recs[0])"
   ]
  },
  {
   "cell_type": "code",
   "execution_count": 367,
   "metadata": {
    "colab": {
     "base_uri": "https://localhost:8080/",
     "height": 204
    },
    "executionInfo": {
     "elapsed": 238,
     "status": "ok",
     "timestamp": 1732149291999,
     "user": {
      "displayName": "Fernando .Random. Henrique Paes Generich",
      "userId": "13317897141628915437"
     },
     "user_tz": 180
    },
    "id": "kXOToYfxw3h3",
    "outputId": "8f7b6bad-4a8f-4d19-8371-a0a2d1747b52"
   },
   "outputs": [
    {
     "data": {
      "text/html": [
       "<div>\n",
       "<style scoped>\n",
       "    .dataframe tbody tr th:only-of-type {\n",
       "        vertical-align: middle;\n",
       "    }\n",
       "\n",
       "    .dataframe tbody tr th {\n",
       "        vertical-align: top;\n",
       "    }\n",
       "\n",
       "    .dataframe thead th {\n",
       "        text-align: right;\n",
       "    }\n",
       "</style>\n",
       "<table border=\"1\" class=\"dataframe\">\n",
       "  <thead>\n",
       "    <tr style=\"text-align: right;\">\n",
       "      <th></th>\n",
       "      <th>Number</th>\n",
       "      <th>Sequence</th>\n",
       "    </tr>\n",
       "  </thead>\n",
       "  <tbody>\n",
       "    <tr>\n",
       "      <th>0</th>\n",
       "      <td>LR618874.1</td>\n",
       "      <td>(T, C, A, T, G, G, C, T, A, T, T, T, T, C, A, ...</td>\n",
       "    </tr>\n",
       "    <tr>\n",
       "      <th>1</th>\n",
       "      <td>LR618875.1</td>\n",
       "      <td>(T, T, C, T, C, A, T, T, A, T, A, T, C, C, T, ...</td>\n",
       "    </tr>\n",
       "    <tr>\n",
       "      <th>2</th>\n",
       "      <td>LR618876.1</td>\n",
       "      <td>(C, C, T, A, A, A, C, C, C, T, A, A, A, C, C, ...</td>\n",
       "    </tr>\n",
       "    <tr>\n",
       "      <th>3</th>\n",
       "      <td>LR618877.1</td>\n",
       "      <td>(C, C, T, A, A, A, C, C, C, T, A, A, A, C, C, ...</td>\n",
       "    </tr>\n",
       "    <tr>\n",
       "      <th>4</th>\n",
       "      <td>LR618878.1</td>\n",
       "      <td>(C, T, A, A, A, C, C, T, A, A, A, C, A, T, C, ...</td>\n",
       "    </tr>\n",
       "    <tr>\n",
       "      <th>5</th>\n",
       "      <td>LR618879.1</td>\n",
       "      <td>(A, A, A, A, C, C, C, T, A, A, A, C, C, C, T, ...</td>\n",
       "    </tr>\n",
       "    <tr>\n",
       "      <th>6</th>\n",
       "      <td>LR618880.1</td>\n",
       "      <td>(C, T, A, A, A, A, C, C, C, T, A, A, A, C, C, ...</td>\n",
       "    </tr>\n",
       "    <tr>\n",
       "      <th>7</th>\n",
       "      <td>LR618881.1</td>\n",
       "      <td>(A, A, A, C, C, T, A, A, A, C, C, C, T, A, A, ...</td>\n",
       "    </tr>\n",
       "    <tr>\n",
       "      <th>8</th>\n",
       "      <td>LR618882.1</td>\n",
       "      <td>(G, T, C, G, C, T, C, A, T, G, G, C, T, A, T, ...</td>\n",
       "    </tr>\n",
       "    <tr>\n",
       "      <th>9</th>\n",
       "      <td>LR618883.1</td>\n",
       "      <td>(T, A, A, A, C, C, C, T, A, A, A, C, C, C, T, ...</td>\n",
       "    </tr>\n",
       "  </tbody>\n",
       "</table>\n",
       "</div>"
      ],
      "text/plain": [
       "       Number                                           Sequence\n",
       "0  LR618874.1  (T, C, A, T, G, G, C, T, A, T, T, T, T, C, A, ...\n",
       "1  LR618875.1  (T, T, C, T, C, A, T, T, A, T, A, T, C, C, T, ...\n",
       "2  LR618876.1  (C, C, T, A, A, A, C, C, C, T, A, A, A, C, C, ...\n",
       "3  LR618877.1  (C, C, T, A, A, A, C, C, C, T, A, A, A, C, C, ...\n",
       "4  LR618878.1  (C, T, A, A, A, C, C, T, A, A, A, C, A, T, C, ...\n",
       "5  LR618879.1  (A, A, A, A, C, C, C, T, A, A, A, C, C, C, T, ...\n",
       "6  LR618880.1  (C, T, A, A, A, A, C, C, C, T, A, A, A, C, C, ...\n",
       "7  LR618881.1  (A, A, A, C, C, T, A, A, A, C, C, C, T, A, A, ...\n",
       "8  LR618882.1  (G, T, C, G, C, T, C, A, T, G, G, C, T, A, T, ...\n",
       "9  LR618883.1  (T, A, A, A, C, C, C, T, A, A, A, C, C, C, T, ..."
      ]
     },
     "execution_count": 367,
     "metadata": {},
     "output_type": "execute_result"
    }
   ],
   "source": [
    "chromosome_dict = {\n",
    "  'Number': [],\n",
    "  'Sequence': []\n",
    "}\n",
    "\n",
    "for i in allchromosomes:\n",
    "  chromosome_dict['Number'].append(i.id)\n",
    "  chromosome_dict['Sequence'].append(i.seq)\n",
    "\n",
    "chromosome_df = pd.DataFrame(chromosome_dict)\n",
    "\n",
    "chromosome_df"
   ]
  },
  {
   "cell_type": "markdown",
   "metadata": {},
   "source": [
    "## Efetuando um Join entre os DataFrames "
   ]
  },
  {
   "cell_type": "code",
   "execution_count": 369,
   "metadata": {
    "colab": {
     "base_uri": "https://localhost:8080/",
     "height": 193
    },
    "collapsed": true,
    "executionInfo": {
     "elapsed": 5,
     "status": "error",
     "timestamp": 1732152655967,
     "user": {
      "displayName": "Fernando .Random. Henrique Paes Generich",
      "userId": "13317897141628915437"
     },
     "user_tz": 180
    },
    "id": "t6EaZnkEJftU",
    "outputId": "7c6482e5-9a6c-4d6c-ce9c-93f38ebf5708"
   },
   "outputs": [],
   "source": [
    "def get_sequence(chromosome: int, start: int, end: int) -> Seq.Seq:\n",
    "  return chromosome_df.Sequence[chromosome-1][start:end+1]\n",
    "\n",
    "te_df['Sequence'] = te_df.apply(lambda x: get_sequence(int(x.Chr), int(x.Start), int(x.End)), axis=1)"
   ]
  },
  {
   "cell_type": "markdown",
   "metadata": {},
   "source": [
    "Deleta linhas que possuem NaN"
   ]
  },
  {
   "cell_type": "code",
   "execution_count": 4,
   "metadata": {},
   "outputs": [
    {
     "data": {
      "text/html": [
       "<div>\n",
       "<style scoped>\n",
       "    .dataframe tbody tr th:only-of-type {\n",
       "        vertical-align: middle;\n",
       "    }\n",
       "\n",
       "    .dataframe tbody tr th {\n",
       "        vertical-align: top;\n",
       "    }\n",
       "\n",
       "    .dataframe thead th {\n",
       "        text-align: right;\n",
       "    }\n",
       "</style>\n",
       "<table border=\"1\" class=\"dataframe\">\n",
       "  <thead>\n",
       "    <tr style=\"text-align: right;\">\n",
       "      <th></th>\n",
       "      <th>Chr</th>\n",
       "      <th>Class</th>\n",
       "      <th>Start</th>\n",
       "      <th>End</th>\n",
       "      <th>Strand</th>\n",
       "      <th>Class.1</th>\n",
       "      <th>Sequence</th>\n",
       "    </tr>\n",
       "  </thead>\n",
       "  <tbody>\n",
       "    <tr>\n",
       "      <th>0</th>\n",
       "      <td>7</td>\n",
       "      <td>Class II subclass 2/Helitron/Helitron</td>\n",
       "      <td>82856122</td>\n",
       "      <td>82857584</td>\n",
       "      <td>+</td>\n",
       "      <td>Helitron</td>\n",
       "      <td>AGCTTCGTCACCAGCTTTGCTCCGACCACCCTTTGTCCATACTAAC...</td>\n",
       "    </tr>\n",
       "    <tr>\n",
       "      <th>1</th>\n",
       "      <td>1</td>\n",
       "      <td>Class II subclass 2/Helitron/Helitron</td>\n",
       "      <td>239302471</td>\n",
       "      <td>239302834</td>\n",
       "      <td>+</td>\n",
       "      <td>Helitron</td>\n",
       "      <td>TCAGGGTTGCTTCTTGGCGAAGACAGGGCCTCGGGCGAGCCAGAAA...</td>\n",
       "    </tr>\n",
       "    <tr>\n",
       "      <th>2</th>\n",
       "      <td>8</td>\n",
       "      <td>Class II subclass 2/Helitron/Helitron</td>\n",
       "      <td>2261318</td>\n",
       "      <td>2261604</td>\n",
       "      <td>+</td>\n",
       "      <td>Helitron</td>\n",
       "      <td>CGCCCAAGCAGACGGTCACCATCAGCGAAGACCTCACTTCGCATGA...</td>\n",
       "    </tr>\n",
       "    <tr>\n",
       "      <th>3</th>\n",
       "      <td>5</td>\n",
       "      <td>Class II subclass 2/Helitron/Helitron</td>\n",
       "      <td>124665404</td>\n",
       "      <td>124665608</td>\n",
       "      <td>+</td>\n",
       "      <td>Helitron</td>\n",
       "      <td>ATGCCAAGTCGTGTCAAACGACTTAGGGTAGGGGTCAACTTTCTCC...</td>\n",
       "    </tr>\n",
       "    <tr>\n",
       "      <th>4</th>\n",
       "      <td>9</td>\n",
       "      <td>Class II subclass 2/Helitron/Helitron</td>\n",
       "      <td>77998293</td>\n",
       "      <td>78002783</td>\n",
       "      <td>+</td>\n",
       "      <td>Helitron</td>\n",
       "      <td>TTAGGTTATTTATATACTAGTTTATGTTGATGATATAATCATCACT...</td>\n",
       "    </tr>\n",
       "  </tbody>\n",
       "</table>\n",
       "</div>"
      ],
      "text/plain": [
       "   Chr                                  Class      Start        End Strand  \\\n",
       "0    7  Class II subclass 2/Helitron/Helitron   82856122   82857584      +   \n",
       "1    1  Class II subclass 2/Helitron/Helitron  239302471  239302834      +   \n",
       "2    8  Class II subclass 2/Helitron/Helitron    2261318    2261604      +   \n",
       "3    5  Class II subclass 2/Helitron/Helitron  124665404  124665608      +   \n",
       "4    9  Class II subclass 2/Helitron/Helitron   77998293   78002783      +   \n",
       "\n",
       "    Class.1                                           Sequence  \n",
       "0  Helitron  AGCTTCGTCACCAGCTTTGCTCCGACCACCCTTTGTCCATACTAAC...  \n",
       "1  Helitron  TCAGGGTTGCTTCTTGGCGAAGACAGGGCCTCGGGCGAGCCAGAAA...  \n",
       "2  Helitron  CGCCCAAGCAGACGGTCACCATCAGCGAAGACCTCACTTCGCATGA...  \n",
       "3  Helitron  ATGCCAAGTCGTGTCAAACGACTTAGGGTAGGGGTCAACTTTCTCC...  \n",
       "4  Helitron  TTAGGTTATTTATATACTAGTTTATGTTGATGATATAATCATCACT...  "
      ]
     },
     "execution_count": 4,
     "metadata": {},
     "output_type": "execute_result"
    }
   ],
   "source": [
    "te_df = te_df.dropna()\n",
    "te_df.head()"
   ]
  },
  {
   "cell_type": "markdown",
   "metadata": {},
   "source": [
    "Salva o Dataframe como `.csv`"
   ]
  },
  {
   "cell_type": "code",
   "execution_count": 8,
   "metadata": {},
   "outputs": [],
   "source": [
    "te_df.to_csv('data/transposable_elements.csv')"
   ]
  },
  {
   "cell_type": "markdown",
   "metadata": {},
   "source": [
    "Leitura do arquivo csv"
   ]
  },
  {
   "cell_type": "code",
   "execution_count": 9,
   "metadata": {},
   "outputs": [],
   "source": [
    "te_df = pd.read_csv('data/transposable_elements.csv', index_col=0)"
   ]
  },
  {
   "cell_type": "markdown",
   "metadata": {},
   "source": [
    "## Classificação com Kernels"
   ]
  },
  {
   "cell_type": "code",
   "execution_count": 108,
   "metadata": {},
   "outputs": [],
   "source": [
    "from Levenshtein import distance as levenshtein_distance\n",
    "import numpy as np\n",
    "from sklearn.svm import SVC, NuSVC\n",
    "from sklearn.multiclass import OneVsRestClassifier, OneVsOneClassifier\n",
    "from sklearn.preprocessing import LabelEncoder\n",
    "from sklearn.model_selection import train_test_split\n",
    "from sklearn.metrics import accuracy_score, roc_auc_score"
   ]
  },
  {
   "cell_type": "code",
   "execution_count": 56,
   "metadata": {},
   "outputs": [],
   "source": [
    "small_df = te_df.dropna().sample(1000, random_state=0).reset_index(drop=True)"
   ]
  },
  {
   "cell_type": "code",
   "execution_count": 213,
   "metadata": {},
   "outputs": [
    {
     "name": "stderr",
     "output_type": "stream",
     "text": [
      "/home/vitor/Documents/TransposableElements/venv/lib/python3.12/site-packages/sklearn/preprocessing/_label.py:114: DataConversionWarning: A column-vector y was passed when a 1d array was expected. Please change the shape of y to (n_samples, ), for example using ravel().\n",
      "  y = column_or_1d(y, warn=True)\n"
     ]
    }
   ],
   "source": [
    "X = list(small_df['Sequence'])\n",
    "y = np.array(small_df['Class']).reshape(-1, 1)\n",
    "\n",
    "le = LabelEncoder()\n",
    "y = le.fit_transform(y)"
   ]
  },
  {
   "cell_type": "markdown",
   "metadata": {},
   "source": [
    "### Criação da matriz kernel"
   ]
  },
  {
   "cell_type": "code",
   "execution_count": 214,
   "metadata": {},
   "outputs": [
    {
     "name": "stdout",
     "output_type": "stream",
     "text": [
      "CPU times: user 44.4 s, sys: 123 ms, total: 44.5 s\n",
      "Wall time: 45.8 s\n"
     ]
    }
   ],
   "source": [
    "%%time\n",
    "from strkernel.mismatch_kernel import MismatchKernel\n",
    "from strkernel.gappy_kernel import gappypair_kernel as GappyPairKernel\n",
    "from strkernel.mismatch_kernel import preprocess\n",
    "from sklearn.kernel_approximation import Nystroem\n",
    "\n",
    "kernel = MismatchKernel(l=4, k=5, m=1).get_kernel(preprocess(X)).kernel\n",
    "# kernel = GappyPairKernel(X, k=1,t=0,g=1)"
   ]
  },
  {
   "cell_type": "markdown",
   "metadata": {},
   "source": [
    "#### Normalização"
   ]
  },
  {
   "cell_type": "code",
   "execution_count": 215,
   "metadata": {},
   "outputs": [],
   "source": [
    "exponential_kernel = np.exp(kernel)\n",
    "diagonal = np.diag(1./np.sqrt(np.diag(exponential_kernel)))\n",
    "normalized_exponential_kernel = diagonal @ exponential_kernel @ diagonal"
   ]
  },
  {
   "cell_type": "markdown",
   "metadata": {},
   "source": [
    "Checando se a matriz é positiva definida. Isso é importante para garantir que o Kernel é válido"
   ]
  },
  {
   "cell_type": "code",
   "execution_count": 217,
   "metadata": {},
   "outputs": [
    {
     "ename": "AssertionError",
     "evalue": "",
     "output_type": "error",
     "traceback": [
      "\u001b[0;31m---------------------------------------------------------------------------\u001b[0m",
      "\u001b[0;31mAssertionError\u001b[0m                            Traceback (most recent call last)",
      "Cell \u001b[0;32mIn[217], line 1\u001b[0m\n\u001b[0;32m----> 1\u001b[0m \u001b[38;5;28;01massert\u001b[39;00m np\u001b[38;5;241m.\u001b[39mall(np\u001b[38;5;241m.\u001b[39mlinalg\u001b[38;5;241m.\u001b[39meigvals(normalized_exponential_kernel) \u001b[38;5;241m>\u001b[39m \u001b[38;5;241m0\u001b[39m) \u001b[38;5;129;01mis\u001b[39;00m np\u001b[38;5;241m.\u001b[39mTrue_\n",
      "\u001b[0;31mAssertionError\u001b[0m: "
     ]
    }
   ],
   "source": [
    "assert np.all(np.linalg.eigvals(normalized_exponential_kernel) > 0) is np.True_"
   ]
  },
  {
   "cell_type": "markdown",
   "metadata": {},
   "source": [
    "### Split Treino Teste\n",
    "\n",
    "O split é utilizado para garantir o teste do modelo treinado sobre amostras nunca vistas, a fim de testar sua capacidade de generalização.\n",
    " \n",
    "Aqui podemos escolher entre as matrizes `kernel`, `exponential_kernel` e `normalized_exponential_kernel`"
   ]
  },
  {
   "cell_type": "code",
   "execution_count": 218,
   "metadata": {},
   "outputs": [
    {
     "name": "stdout",
     "output_type": "stream",
     "text": [
      "(750, 750)\n",
      "(250, 750)\n"
     ]
    }
   ],
   "source": [
    "K_train, K_test, y_train, y_test = train_test_split(kernel, y, shuffle=False)\n",
    "K_train = K_train[:, :K_train.shape[0]]\n",
    "K_test = K_test[:, :K_train.shape[0]]\n",
    "print(K_train.shape)\n",
    "print(K_test.shape)"
   ]
  },
  {
   "cell_type": "markdown",
   "metadata": {},
   "source": [
    "### Validação Cruzada\n",
    "\n",
    "A validação cruzada é utilizada para escolher o melhor valor do parâmetro C. Esse parâmetro é inversamente proporcional a regularização no Classificador SVC"
   ]
  },
  {
   "cell_type": "code",
   "execution_count": 236,
   "metadata": {},
   "outputs": [],
   "source": [
    "def KernelGridSearchCV(\n",
    "    kernel: np.array, \n",
    "    y: np.array, \n",
    "    C_list: list,\n",
    "    params: dict,\n",
    "    n_splits=10, \n",
    "    test_size=0.2, \n",
    "    random_state=42):\n",
    "    \"\"\"\n",
    "    A version of grid search CV, \n",
    "    but adapted for SVM with a precomputed kernel\n",
    "    kernel (np.ndarray) : precomputed kernel\n",
    "    y (np.array) : labels\n",
    "    C_list (iterable) : list of values of C to try\n",
    "    return: optimal value of C\n",
    "    \"\"\"\n",
    "    from sklearn.model_selection import ShuffleSplit\n",
    " \n",
    "    n = kernel.shape[0]\n",
    "    assert len(kernel.shape) == 2\n",
    "    assert kernel.shape[1] == n\n",
    "    assert len(y) == n\n",
    "    \n",
    "    best_score = float('-inf')\n",
    "    best_C = None\n",
    " \n",
    "    indices = np.arange(n)\n",
    "    \n",
    "    for C in tqdm(C_list):\n",
    "        # for each value of parameter, do K-fold\n",
    "        # The performance measure reported by k-fold cross-validation \n",
    "        # is the average of the values computed in the loop\n",
    "        scores = []\n",
    "        ss = ShuffleSplit(n_splits=n_splits, test_size=test_size, random_state=random_state)\n",
    "        for train_index, test_index in ss.split(indices):\n",
    "            K_train = kernel[np.ix_(train_index,train_index)]\n",
    "            K_test = kernel[np.ix_(test_index, train_index)]\n",
    "            y_train = y[train_index]\n",
    "            y_test = y[test_index]\n",
    "            svc = SVC(C=C, **params)\n",
    "            svc.fit(K_train, y_train)\n",
    "            scores.append(svc.score(K_test, y_test))\n",
    "        if np.mean(scores) > best_score:\n",
    "            best_score = np.mean(scores)\n",
    "            best_C = C\n",
    "\n",
    "    return best_C, best_score"
   ]
  },
  {
   "cell_type": "code",
   "execution_count": 240,
   "metadata": {},
   "outputs": [
    {
     "name": "stderr",
     "output_type": "stream",
     "text": [
      "100%|██████████| 29/29 [00:21<00:00,  1.34it/s]"
     ]
    },
    {
     "name": "stdout",
     "output_type": "stream",
     "text": [
      "Best C=2.7 with Accuracy=0.32399999999999995\n"
     ]
    },
    {
     "name": "stderr",
     "output_type": "stream",
     "text": [
      "\n"
     ]
    }
   ],
   "source": [
    "params = {\n",
    "    'kernel': 'precomputed', \n",
    "    'shrinking': True,\n",
    "    'class_weight': 'balanced',\n",
    "    'decision_function_shape': 'ovr',\n",
    "    'probability': True\n",
    "}\n",
    "best_C, best_score = KernelGridSearchCV(\n",
    "    K_train, \n",
    "    y_train, \n",
    "    np.arange(0.1, 3, 0.1), \n",
    "    params\n",
    ")\n",
    "print(f\"Best C={best_C} with Accuracy={best_score}\")"
   ]
  },
  {
   "cell_type": "markdown",
   "metadata": {},
   "source": [
    "### Treinamento\n",
    "\n",
    "Com o melhor parâmetro C definido podemos realizar o treinamento do modelo"
   ]
  },
  {
   "cell_type": "code",
   "execution_count": 241,
   "metadata": {},
   "outputs": [
    {
     "data": {
      "text/html": [
       "<style>#sk-container-id-22 {\n",
       "  /* Definition of color scheme common for light and dark mode */\n",
       "  --sklearn-color-text: black;\n",
       "  --sklearn-color-line: gray;\n",
       "  /* Definition of color scheme for unfitted estimators */\n",
       "  --sklearn-color-unfitted-level-0: #fff5e6;\n",
       "  --sklearn-color-unfitted-level-1: #f6e4d2;\n",
       "  --sklearn-color-unfitted-level-2: #ffe0b3;\n",
       "  --sklearn-color-unfitted-level-3: chocolate;\n",
       "  /* Definition of color scheme for fitted estimators */\n",
       "  --sklearn-color-fitted-level-0: #f0f8ff;\n",
       "  --sklearn-color-fitted-level-1: #d4ebff;\n",
       "  --sklearn-color-fitted-level-2: #b3dbfd;\n",
       "  --sklearn-color-fitted-level-3: cornflowerblue;\n",
       "\n",
       "  /* Specific color for light theme */\n",
       "  --sklearn-color-text-on-default-background: var(--sg-text-color, var(--theme-code-foreground, var(--jp-content-font-color1, black)));\n",
       "  --sklearn-color-background: var(--sg-background-color, var(--theme-background, var(--jp-layout-color0, white)));\n",
       "  --sklearn-color-border-box: var(--sg-text-color, var(--theme-code-foreground, var(--jp-content-font-color1, black)));\n",
       "  --sklearn-color-icon: #696969;\n",
       "\n",
       "  @media (prefers-color-scheme: dark) {\n",
       "    /* Redefinition of color scheme for dark theme */\n",
       "    --sklearn-color-text-on-default-background: var(--sg-text-color, var(--theme-code-foreground, var(--jp-content-font-color1, white)));\n",
       "    --sklearn-color-background: var(--sg-background-color, var(--theme-background, var(--jp-layout-color0, #111)));\n",
       "    --sklearn-color-border-box: var(--sg-text-color, var(--theme-code-foreground, var(--jp-content-font-color1, white)));\n",
       "    --sklearn-color-icon: #878787;\n",
       "  }\n",
       "}\n",
       "\n",
       "#sk-container-id-22 {\n",
       "  color: var(--sklearn-color-text);\n",
       "}\n",
       "\n",
       "#sk-container-id-22 pre {\n",
       "  padding: 0;\n",
       "}\n",
       "\n",
       "#sk-container-id-22 input.sk-hidden--visually {\n",
       "  border: 0;\n",
       "  clip: rect(1px 1px 1px 1px);\n",
       "  clip: rect(1px, 1px, 1px, 1px);\n",
       "  height: 1px;\n",
       "  margin: -1px;\n",
       "  overflow: hidden;\n",
       "  padding: 0;\n",
       "  position: absolute;\n",
       "  width: 1px;\n",
       "}\n",
       "\n",
       "#sk-container-id-22 div.sk-dashed-wrapped {\n",
       "  border: 1px dashed var(--sklearn-color-line);\n",
       "  margin: 0 0.4em 0.5em 0.4em;\n",
       "  box-sizing: border-box;\n",
       "  padding-bottom: 0.4em;\n",
       "  background-color: var(--sklearn-color-background);\n",
       "}\n",
       "\n",
       "#sk-container-id-22 div.sk-container {\n",
       "  /* jupyter's `normalize.less` sets `[hidden] { display: none; }`\n",
       "     but bootstrap.min.css set `[hidden] { display: none !important; }`\n",
       "     so we also need the `!important` here to be able to override the\n",
       "     default hidden behavior on the sphinx rendered scikit-learn.org.\n",
       "     See: https://github.com/scikit-learn/scikit-learn/issues/21755 */\n",
       "  display: inline-block !important;\n",
       "  position: relative;\n",
       "}\n",
       "\n",
       "#sk-container-id-22 div.sk-text-repr-fallback {\n",
       "  display: none;\n",
       "}\n",
       "\n",
       "div.sk-parallel-item,\n",
       "div.sk-serial,\n",
       "div.sk-item {\n",
       "  /* draw centered vertical line to link estimators */\n",
       "  background-image: linear-gradient(var(--sklearn-color-text-on-default-background), var(--sklearn-color-text-on-default-background));\n",
       "  background-size: 2px 100%;\n",
       "  background-repeat: no-repeat;\n",
       "  background-position: center center;\n",
       "}\n",
       "\n",
       "/* Parallel-specific style estimator block */\n",
       "\n",
       "#sk-container-id-22 div.sk-parallel-item::after {\n",
       "  content: \"\";\n",
       "  width: 100%;\n",
       "  border-bottom: 2px solid var(--sklearn-color-text-on-default-background);\n",
       "  flex-grow: 1;\n",
       "}\n",
       "\n",
       "#sk-container-id-22 div.sk-parallel {\n",
       "  display: flex;\n",
       "  align-items: stretch;\n",
       "  justify-content: center;\n",
       "  background-color: var(--sklearn-color-background);\n",
       "  position: relative;\n",
       "}\n",
       "\n",
       "#sk-container-id-22 div.sk-parallel-item {\n",
       "  display: flex;\n",
       "  flex-direction: column;\n",
       "}\n",
       "\n",
       "#sk-container-id-22 div.sk-parallel-item:first-child::after {\n",
       "  align-self: flex-end;\n",
       "  width: 50%;\n",
       "}\n",
       "\n",
       "#sk-container-id-22 div.sk-parallel-item:last-child::after {\n",
       "  align-self: flex-start;\n",
       "  width: 50%;\n",
       "}\n",
       "\n",
       "#sk-container-id-22 div.sk-parallel-item:only-child::after {\n",
       "  width: 0;\n",
       "}\n",
       "\n",
       "/* Serial-specific style estimator block */\n",
       "\n",
       "#sk-container-id-22 div.sk-serial {\n",
       "  display: flex;\n",
       "  flex-direction: column;\n",
       "  align-items: center;\n",
       "  background-color: var(--sklearn-color-background);\n",
       "  padding-right: 1em;\n",
       "  padding-left: 1em;\n",
       "}\n",
       "\n",
       "\n",
       "/* Toggleable style: style used for estimator/Pipeline/ColumnTransformer box that is\n",
       "clickable and can be expanded/collapsed.\n",
       "- Pipeline and ColumnTransformer use this feature and define the default style\n",
       "- Estimators will overwrite some part of the style using the `sk-estimator` class\n",
       "*/\n",
       "\n",
       "/* Pipeline and ColumnTransformer style (default) */\n",
       "\n",
       "#sk-container-id-22 div.sk-toggleable {\n",
       "  /* Default theme specific background. It is overwritten whether we have a\n",
       "  specific estimator or a Pipeline/ColumnTransformer */\n",
       "  background-color: var(--sklearn-color-background);\n",
       "}\n",
       "\n",
       "/* Toggleable label */\n",
       "#sk-container-id-22 label.sk-toggleable__label {\n",
       "  cursor: pointer;\n",
       "  display: block;\n",
       "  width: 100%;\n",
       "  margin-bottom: 0;\n",
       "  padding: 0.5em;\n",
       "  box-sizing: border-box;\n",
       "  text-align: center;\n",
       "}\n",
       "\n",
       "#sk-container-id-22 label.sk-toggleable__label-arrow:before {\n",
       "  /* Arrow on the left of the label */\n",
       "  content: \"▸\";\n",
       "  float: left;\n",
       "  margin-right: 0.25em;\n",
       "  color: var(--sklearn-color-icon);\n",
       "}\n",
       "\n",
       "#sk-container-id-22 label.sk-toggleable__label-arrow:hover:before {\n",
       "  color: var(--sklearn-color-text);\n",
       "}\n",
       "\n",
       "/* Toggleable content - dropdown */\n",
       "\n",
       "#sk-container-id-22 div.sk-toggleable__content {\n",
       "  max-height: 0;\n",
       "  max-width: 0;\n",
       "  overflow: hidden;\n",
       "  text-align: left;\n",
       "  /* unfitted */\n",
       "  background-color: var(--sklearn-color-unfitted-level-0);\n",
       "}\n",
       "\n",
       "#sk-container-id-22 div.sk-toggleable__content.fitted {\n",
       "  /* fitted */\n",
       "  background-color: var(--sklearn-color-fitted-level-0);\n",
       "}\n",
       "\n",
       "#sk-container-id-22 div.sk-toggleable__content pre {\n",
       "  margin: 0.2em;\n",
       "  border-radius: 0.25em;\n",
       "  color: var(--sklearn-color-text);\n",
       "  /* unfitted */\n",
       "  background-color: var(--sklearn-color-unfitted-level-0);\n",
       "}\n",
       "\n",
       "#sk-container-id-22 div.sk-toggleable__content.fitted pre {\n",
       "  /* unfitted */\n",
       "  background-color: var(--sklearn-color-fitted-level-0);\n",
       "}\n",
       "\n",
       "#sk-container-id-22 input.sk-toggleable__control:checked~div.sk-toggleable__content {\n",
       "  /* Expand drop-down */\n",
       "  max-height: 200px;\n",
       "  max-width: 100%;\n",
       "  overflow: auto;\n",
       "}\n",
       "\n",
       "#sk-container-id-22 input.sk-toggleable__control:checked~label.sk-toggleable__label-arrow:before {\n",
       "  content: \"▾\";\n",
       "}\n",
       "\n",
       "/* Pipeline/ColumnTransformer-specific style */\n",
       "\n",
       "#sk-container-id-22 div.sk-label input.sk-toggleable__control:checked~label.sk-toggleable__label {\n",
       "  color: var(--sklearn-color-text);\n",
       "  background-color: var(--sklearn-color-unfitted-level-2);\n",
       "}\n",
       "\n",
       "#sk-container-id-22 div.sk-label.fitted input.sk-toggleable__control:checked~label.sk-toggleable__label {\n",
       "  background-color: var(--sklearn-color-fitted-level-2);\n",
       "}\n",
       "\n",
       "/* Estimator-specific style */\n",
       "\n",
       "/* Colorize estimator box */\n",
       "#sk-container-id-22 div.sk-estimator input.sk-toggleable__control:checked~label.sk-toggleable__label {\n",
       "  /* unfitted */\n",
       "  background-color: var(--sklearn-color-unfitted-level-2);\n",
       "}\n",
       "\n",
       "#sk-container-id-22 div.sk-estimator.fitted input.sk-toggleable__control:checked~label.sk-toggleable__label {\n",
       "  /* fitted */\n",
       "  background-color: var(--sklearn-color-fitted-level-2);\n",
       "}\n",
       "\n",
       "#sk-container-id-22 div.sk-label label.sk-toggleable__label,\n",
       "#sk-container-id-22 div.sk-label label {\n",
       "  /* The background is the default theme color */\n",
       "  color: var(--sklearn-color-text-on-default-background);\n",
       "}\n",
       "\n",
       "/* On hover, darken the color of the background */\n",
       "#sk-container-id-22 div.sk-label:hover label.sk-toggleable__label {\n",
       "  color: var(--sklearn-color-text);\n",
       "  background-color: var(--sklearn-color-unfitted-level-2);\n",
       "}\n",
       "\n",
       "/* Label box, darken color on hover, fitted */\n",
       "#sk-container-id-22 div.sk-label.fitted:hover label.sk-toggleable__label.fitted {\n",
       "  color: var(--sklearn-color-text);\n",
       "  background-color: var(--sklearn-color-fitted-level-2);\n",
       "}\n",
       "\n",
       "/* Estimator label */\n",
       "\n",
       "#sk-container-id-22 div.sk-label label {\n",
       "  font-family: monospace;\n",
       "  font-weight: bold;\n",
       "  display: inline-block;\n",
       "  line-height: 1.2em;\n",
       "}\n",
       "\n",
       "#sk-container-id-22 div.sk-label-container {\n",
       "  text-align: center;\n",
       "}\n",
       "\n",
       "/* Estimator-specific */\n",
       "#sk-container-id-22 div.sk-estimator {\n",
       "  font-family: monospace;\n",
       "  border: 1px dotted var(--sklearn-color-border-box);\n",
       "  border-radius: 0.25em;\n",
       "  box-sizing: border-box;\n",
       "  margin-bottom: 0.5em;\n",
       "  /* unfitted */\n",
       "  background-color: var(--sklearn-color-unfitted-level-0);\n",
       "}\n",
       "\n",
       "#sk-container-id-22 div.sk-estimator.fitted {\n",
       "  /* fitted */\n",
       "  background-color: var(--sklearn-color-fitted-level-0);\n",
       "}\n",
       "\n",
       "/* on hover */\n",
       "#sk-container-id-22 div.sk-estimator:hover {\n",
       "  /* unfitted */\n",
       "  background-color: var(--sklearn-color-unfitted-level-2);\n",
       "}\n",
       "\n",
       "#sk-container-id-22 div.sk-estimator.fitted:hover {\n",
       "  /* fitted */\n",
       "  background-color: var(--sklearn-color-fitted-level-2);\n",
       "}\n",
       "\n",
       "/* Specification for estimator info (e.g. \"i\" and \"?\") */\n",
       "\n",
       "/* Common style for \"i\" and \"?\" */\n",
       "\n",
       ".sk-estimator-doc-link,\n",
       "a:link.sk-estimator-doc-link,\n",
       "a:visited.sk-estimator-doc-link {\n",
       "  float: right;\n",
       "  font-size: smaller;\n",
       "  line-height: 1em;\n",
       "  font-family: monospace;\n",
       "  background-color: var(--sklearn-color-background);\n",
       "  border-radius: 1em;\n",
       "  height: 1em;\n",
       "  width: 1em;\n",
       "  text-decoration: none !important;\n",
       "  margin-left: 1ex;\n",
       "  /* unfitted */\n",
       "  border: var(--sklearn-color-unfitted-level-1) 1pt solid;\n",
       "  color: var(--sklearn-color-unfitted-level-1);\n",
       "}\n",
       "\n",
       ".sk-estimator-doc-link.fitted,\n",
       "a:link.sk-estimator-doc-link.fitted,\n",
       "a:visited.sk-estimator-doc-link.fitted {\n",
       "  /* fitted */\n",
       "  border: var(--sklearn-color-fitted-level-1) 1pt solid;\n",
       "  color: var(--sklearn-color-fitted-level-1);\n",
       "}\n",
       "\n",
       "/* On hover */\n",
       "div.sk-estimator:hover .sk-estimator-doc-link:hover,\n",
       ".sk-estimator-doc-link:hover,\n",
       "div.sk-label-container:hover .sk-estimator-doc-link:hover,\n",
       ".sk-estimator-doc-link:hover {\n",
       "  /* unfitted */\n",
       "  background-color: var(--sklearn-color-unfitted-level-3);\n",
       "  color: var(--sklearn-color-background);\n",
       "  text-decoration: none;\n",
       "}\n",
       "\n",
       "div.sk-estimator.fitted:hover .sk-estimator-doc-link.fitted:hover,\n",
       ".sk-estimator-doc-link.fitted:hover,\n",
       "div.sk-label-container:hover .sk-estimator-doc-link.fitted:hover,\n",
       ".sk-estimator-doc-link.fitted:hover {\n",
       "  /* fitted */\n",
       "  background-color: var(--sklearn-color-fitted-level-3);\n",
       "  color: var(--sklearn-color-background);\n",
       "  text-decoration: none;\n",
       "}\n",
       "\n",
       "/* Span, style for the box shown on hovering the info icon */\n",
       ".sk-estimator-doc-link span {\n",
       "  display: none;\n",
       "  z-index: 9999;\n",
       "  position: relative;\n",
       "  font-weight: normal;\n",
       "  right: .2ex;\n",
       "  padding: .5ex;\n",
       "  margin: .5ex;\n",
       "  width: min-content;\n",
       "  min-width: 20ex;\n",
       "  max-width: 50ex;\n",
       "  color: var(--sklearn-color-text);\n",
       "  box-shadow: 2pt 2pt 4pt #999;\n",
       "  /* unfitted */\n",
       "  background: var(--sklearn-color-unfitted-level-0);\n",
       "  border: .5pt solid var(--sklearn-color-unfitted-level-3);\n",
       "}\n",
       "\n",
       ".sk-estimator-doc-link.fitted span {\n",
       "  /* fitted */\n",
       "  background: var(--sklearn-color-fitted-level-0);\n",
       "  border: var(--sklearn-color-fitted-level-3);\n",
       "}\n",
       "\n",
       ".sk-estimator-doc-link:hover span {\n",
       "  display: block;\n",
       "}\n",
       "\n",
       "/* \"?\"-specific style due to the `<a>` HTML tag */\n",
       "\n",
       "#sk-container-id-22 a.estimator_doc_link {\n",
       "  float: right;\n",
       "  font-size: 1rem;\n",
       "  line-height: 1em;\n",
       "  font-family: monospace;\n",
       "  background-color: var(--sklearn-color-background);\n",
       "  border-radius: 1rem;\n",
       "  height: 1rem;\n",
       "  width: 1rem;\n",
       "  text-decoration: none;\n",
       "  /* unfitted */\n",
       "  color: var(--sklearn-color-unfitted-level-1);\n",
       "  border: var(--sklearn-color-unfitted-level-1) 1pt solid;\n",
       "}\n",
       "\n",
       "#sk-container-id-22 a.estimator_doc_link.fitted {\n",
       "  /* fitted */\n",
       "  border: var(--sklearn-color-fitted-level-1) 1pt solid;\n",
       "  color: var(--sklearn-color-fitted-level-1);\n",
       "}\n",
       "\n",
       "/* On hover */\n",
       "#sk-container-id-22 a.estimator_doc_link:hover {\n",
       "  /* unfitted */\n",
       "  background-color: var(--sklearn-color-unfitted-level-3);\n",
       "  color: var(--sklearn-color-background);\n",
       "  text-decoration: none;\n",
       "}\n",
       "\n",
       "#sk-container-id-22 a.estimator_doc_link.fitted:hover {\n",
       "  /* fitted */\n",
       "  background-color: var(--sklearn-color-fitted-level-3);\n",
       "}\n",
       "</style><div id=\"sk-container-id-22\" class=\"sk-top-container\"><div class=\"sk-text-repr-fallback\"><pre>SVC(C=2.7, class_weight=&#x27;balanced&#x27;, kernel=&#x27;precomputed&#x27;, probability=True)</pre><b>In a Jupyter environment, please rerun this cell to show the HTML representation or trust the notebook. <br />On GitHub, the HTML representation is unable to render, please try loading this page with nbviewer.org.</b></div><div class=\"sk-container\" hidden><div class=\"sk-item\"><div class=\"sk-estimator fitted sk-toggleable\"><input class=\"sk-toggleable__control sk-hidden--visually\" id=\"sk-estimator-id-22\" type=\"checkbox\" checked><label for=\"sk-estimator-id-22\" class=\"sk-toggleable__label fitted sk-toggleable__label-arrow fitted\">&nbsp;&nbsp;SVC<a class=\"sk-estimator-doc-link fitted\" rel=\"noreferrer\" target=\"_blank\" href=\"https://scikit-learn.org/1.5/modules/generated/sklearn.svm.SVC.html\">?<span>Documentation for SVC</span></a><span class=\"sk-estimator-doc-link fitted\">i<span>Fitted</span></span></label><div class=\"sk-toggleable__content fitted\"><pre>SVC(C=2.7, class_weight=&#x27;balanced&#x27;, kernel=&#x27;precomputed&#x27;, probability=True)</pre></div> </div></div></div></div>"
      ],
      "text/plain": [
       "SVC(C=2.7, class_weight='balanced', kernel='precomputed', probability=True)"
      ]
     },
     "execution_count": 241,
     "metadata": {},
     "output_type": "execute_result"
    }
   ],
   "source": [
    "classifier = SVC(\n",
    "    C=2.7,\n",
    "    **params\n",
    ")\n",
    "classifier.fit(K_train, y_train)"
   ]
  },
  {
   "cell_type": "markdown",
   "metadata": {},
   "source": [
    "## Avaliação\n",
    "### Avaliação do modelo no conjunto de treinamento"
   ]
  },
  {
   "cell_type": "code",
   "execution_count": 242,
   "metadata": {},
   "outputs": [
    {
     "data": {
      "text/plain": [
       "0.748"
      ]
     },
     "execution_count": 242,
     "metadata": {},
     "output_type": "execute_result"
    }
   ],
   "source": [
    "y_pred = classifier.predict(K_train)\n",
    "accuracy_score(y_pred, y_train)"
   ]
  },
  {
   "cell_type": "markdown",
   "metadata": {},
   "source": [
    "### Avaliação do modelo no conjunto de teste\n",
    "\n",
    "Apesar da acurácia no conjunto de treinamento não ser ideal, o modelo performa muito bem quanto a curva ROC"
   ]
  },
  {
   "cell_type": "code",
   "execution_count": 244,
   "metadata": {},
   "outputs": [
    {
     "data": {
      "text/plain": [
       "0.312"
      ]
     },
     "execution_count": 244,
     "metadata": {},
     "output_type": "execute_result"
    }
   ],
   "source": [
    "y_pred = classifier.predict(K_test)\n",
    "accuracy_score(y_pred, y_test)"
   ]
  },
  {
   "cell_type": "markdown",
   "metadata": {},
   "source": [
    "### [Micro-averaged OvR](https://scikit-learn.org/stable/auto_examples/model_selection/plot_roc.html#roc-curve-using-micro-averaged-ovr)\n",
    "\n",
    "Consideramos a contribuição de todas as classes para computar a TPR e FPR. Em um cenário de classificação multiclasses com desbalanceamento, é preferível ao invés da versão macro.\n",
    "\n"
   ]
  },
  {
   "cell_type": "code",
   "execution_count": 247,
   "metadata": {},
   "outputs": [],
   "source": [
    "from sklearn.preprocessing import LabelBinarizer\n",
    "\n",
    "label_binarizer = LabelBinarizer().fit(y_train)\n",
    "y_onehot_test = label_binarizer.transform(y_test)\n",
    "y_pred = classifier.predict_proba(K_test)"
   ]
  },
  {
   "cell_type": "code",
   "execution_count": 248,
   "metadata": {},
   "outputs": [
    {
     "data": {
      "image/png": "[encoded data removed]",
      "text/plain": [
       "<Figure size 640x480 with 1 Axes>"
      ]
     },
     "metadata": {},
     "output_type": "display_data"
    }
   ],
   "source": [
    "display = RocCurveDisplay.from_predictions(\n",
    "    y_onehot_test.ravel(),\n",
    "    y_pred.ravel(),\n",
    "    name=\"Micro-average OvR\",\n",
    "    color=\"darkorange\",\n",
    "    plot_chance_level=True,\n",
    ")\n",
    "_ = display.ax_.set(\n",
    "    xlabel=\"False Positive Rate\",\n",
    "    ylabel=\"True Positive Rate\",\n",
    "    title=\"Micro-averaged One-vs-Rest\\nReceiver Operating Characteristic\",\n",
    ")"
   ]
  }
 ],
 "metadata": {
  "colab": {
   "authorship_tag": "ABX9TyOfY4uNH4+85oO6s9it0PvH",
   "provenance": []
  },
  "kernelspec": {
   "display_name": "venv",
   "language": "python",
   "name": "python3"
  },
  "language_info": {
   "codemirror_mode": {
    "name": "ipython",
    "version": 3
   },
   "file_extension": ".py",
   "mimetype": "text/x-python",
   "name": "python",
   "nbconvert_exporter": "python",
   "pygments_lexer": "ipython3",
   "version": "3.12.7"
  }
 },
 "nbformat": 4,
 "nbformat_minor": 0
}
